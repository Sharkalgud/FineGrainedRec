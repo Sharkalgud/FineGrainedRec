{
  "nbformat": 4,
  "nbformat_minor": 0,
  "metadata": {
    "colab": {
      "name": "543_Final_Implementation.ipynb",
      "version": "0.3.2",
      "views": {},
      "default_view": {},
      "provenance": [],
      "collapsed_sections": []
    },
    "kernelspec": {
      "name": "python3",
      "display_name": "Python 3"
    }
  },
  "cells": [
    {
      "metadata": {
        "id": "FWL1MXmNL1QX",
        "colab_type": "code",
        "colab": {
          "autoexec": {
            "startup": false,
            "wait_interval": 0
          }
        }
      },
      "cell_type": "code",
      "source": [
        "!apt-get -qq install -y libsm6 libxext6 && pip install -q -U opencv-python\n",
        "import cv2\n",
        "import numpy as np\n",
        "from matplotlib import pyplot as plt\n",
        "from google.colab import files\n",
        "\n"
      ],
      "execution_count": 0,
      "outputs": []
    },
    {
      "metadata": {
        "id": "q4D18FZ7rtRg",
        "colab_type": "text"
      },
      "cell_type": "markdown",
      "source": [
        "**Download CUB data from drive**"
      ]
    },
    {
      "metadata": {
        "id": "lTPMOxp5r2Ae",
        "colab_type": "code",
        "colab": {
          "autoexec": {
            "startup": false,
            "wait_interval": 0
          }
        }
      },
      "cell_type": "code",
      "source": [
        "!pip install -U -q PyDrive\n",
        "import os\n",
        "from pydrive.auth import GoogleAuth\n",
        "from pydrive.drive import GoogleDrive\n",
        "from google.colab import auth\n",
        "from oauth2client.client import GoogleCredentials"
      ],
      "execution_count": 0,
      "outputs": []
    },
    {
      "metadata": {
        "id": "SfqXvaZ5sCiI",
        "colab_type": "code",
        "colab": {
          "autoexec": {
            "startup": false,
            "wait_interval": 0
          }
        }
      },
      "cell_type": "code",
      "source": [
        "#Authenticate and create the PyDrive client.\n",
        "auth.authenticate_user()\n",
        "gauth = GoogleAuth()\n",
        "gauth.credentials = GoogleCredentials.get_application_default()\n",
        "drive = GoogleDrive(gauth)"
      ],
      "execution_count": 0,
      "outputs": []
    },
    {
      "metadata": {
        "id": "9k7f2FGjsME3",
        "colab_type": "code",
        "colab": {
          "autoexec": {
            "startup": false,
            "wait_interval": 0
          }
        }
      },
      "cell_type": "code",
      "source": [
        "#create a local directory to store data\n",
        "cub_path = os.path.expanduser('~CUB_200_2011/')\n",
        "try:\n",
        "  os.makedirs(cub_path)\n",
        "except:pass\n",
        "cub_attribute_path = os.path.join(cub_path, 'attributes')\n",
        "try:\n",
        "  os.makedirs(cub_attribute_path)\n",
        "except:pass\n",
        "cub_images_path = os.path.join(cub_path, 'images')\n",
        "try:\n",
        "  os.makedirs(cub_images_path)\n",
        "except:pass\n",
        "cub_parts_path = os.path.join(cub_path, 'parts')\n",
        "try:\n",
        "  os.makedirs(cub_parts_path)\n",
        "except:pass"
      ],
      "execution_count": 0,
      "outputs": []
    },
    {
      "metadata": {
        "id": "nirFSyXPsfVZ",
        "colab_type": "code",
        "colab": {
          "autoexec": {
            "startup": false,
            "wait_interval": 0
          }
        }
      },
      "cell_type": "code",
      "source": [
        "#download meta date\n",
        "cub_main = drive.ListFile({'q': \"'1Cix6klKkmwNh-rKYWvaAtktKGyoM5yNg' in parents\"}).GetList()\n",
        "cub_main = cub_main[:-3]\n",
        "for f in cub_main:\n",
        "  print('title: %s, id: %s' % (f['title'], f['id']))\n",
        "  fname = os.path.join(cub_path, f['title'])\n",
        "  print('downloading to {}'.format(fname))\n",
        "  f_ = drive.CreateFile({'id': f['id']})\n",
        "  f_.GetContentFile(fname)"
      ],
      "execution_count": 0,
      "outputs": []
    },
    {
      "metadata": {
        "id": "NM5wkiNxzWpp",
        "colab_type": "code",
        "colab": {
          "autoexec": {
            "startup": false,
            "wait_interval": 0
          }
        }
      },
      "cell_type": "code",
      "source": [
        "#download attribute files\n",
        "cub_attributes = drive.ListFile({'q': \"'1ewZP43Tm1-I8Ijrr3KqNgtmAdIDg8DDG' in parents\"}).GetList()\n",
        "for f in cub_attributes:\n",
        "  print('title: %s, id: %s' % (f['title'], f['id']))\n",
        "  fname = os.path.join(cub_attribute_path, f['title'])\n",
        "  print('downloading to {}'.format(fname))\n",
        "  f_ = drive.CreateFile({'id': f['id']})\n",
        "  f_.GetContentFile(fname)"
      ],
      "execution_count": 0,
      "outputs": []
    },
    {
      "metadata": {
        "id": "89cBdW3qz830",
        "colab_type": "code",
        "colab": {
          "autoexec": {
            "startup": false,
            "wait_interval": 0
          }
        }
      },
      "cell_type": "code",
      "source": [
        "#download parts files\n",
        "cub_parts = drive.ListFile({'q': \"'17JqIw2gQAguf_9iVIO1h0Mm7utMhkSSz' in parents\"}).GetList()\n",
        "for f in cub_parts:\n",
        "  print('title: %s, id: %s' % (f['title'], f['id']))\n",
        "  fname = os.path.join(cub_parts_path, f['title'])\n",
        "  print('downloading to {}'.format(fname))\n",
        "  f_ = drive.CreateFile({'id': f['id']})\n",
        "  f_.GetContentFile(fname)"
      ],
      "execution_count": 0,
      "outputs": []
    },
    {
      "metadata": {
        "id": "qJdnT4T30-TO",
        "colab_type": "code",
        "colab": {
          "autoexec": {
            "startup": false,
            "wait_interval": 0
          }
        }
      },
      "cell_type": "code",
      "source": [
        "#download images\n",
        "cub_image_fold = drive.ListFile({'q': \"'1eP90K6PR4ClO5Gr2H3_NOcgiNYAyDU2Y' in parents\"}).GetList()\n",
        "for f in cub_image_fold:\n",
        "  print('folder title: %s, id: %s' % (f['title'], f['id']))\n",
        "  cub_images = drive.ListFile({'q': \"'\" + f['id'] + \"' in parents\"}).GetList()\n",
        "  cub_file_path = os.path.join(cub_images_path, f['title'])\n",
        "  try:\n",
        "    os.makedirs(cub_file_path)\n",
        "  except:pass\n",
        "  for i in cub_images:\n",
        "    print('file title: %s, id: %s' % (i['title'], i['id']))\n",
        "    fname = os.path.join(cub_images_path, f['title'], i['title'])\n",
        "    print('downloading to {}'.format(fname))\n",
        "    f_ = drive.CreateFile({'id': i['id']})\n",
        "    f_.GetContentFile(fname)"
      ],
      "execution_count": 0,
      "outputs": []
    },
    {
      "metadata": {
        "id": "nyZJNUDQhpx0",
        "colab_type": "code",
        "colab": {
          "autoexec": {
            "startup": false,
            "wait_interval": 0
          },
          "base_uri": "https://localhost:8080/",
          "height": 204
        },
        "outputId": "42694199-bd23-443b-f94b-3295827109b7",
        "executionInfo": {
          "status": "ok",
          "timestamp": 1525829529725,
          "user_tz": 300,
          "elapsed": 1745,
          "user": {
            "displayName": "Sharan Arkalgud",
            "photoUrl": "//lh5.googleusercontent.com/-Ya5U_HVTkCI/AAAAAAAAAAI/AAAAAAAAAD0/mRaLRQuZF_k/s50-c-k-no/photo.jpg",
            "userId": "107276315132028964056"
          }
        }
      },
      "cell_type": "code",
      "source": [
        "!cd FineGrainedRec/; git pull origin master"
      ],
      "execution_count": 70,
      "outputs": [
        {
          "output_type": "stream",
          "text": [
            "remote: Counting objects: 5, done.\u001b[K\r\n",
            "remote: Compressing objects: 100% (1/1)   \u001b[K\rremote: Compressing objects: 100% (1/1), done.\u001b[K\r\n",
            "remote: Total 5 (delta 4), reused 5 (delta 4), pack-reused 0\u001b[K\n",
            "Unpacking objects: 100% (5/5), done.\n",
            "From https://github.com/Sharkalgud/FineGrainedRec\n",
            " * branch            master     -> FETCH_HEAD\n",
            "   4932e52..d56a4eb  master     -> origin/master\n",
            "Updating 4932e52..d56a4eb\n",
            "Fast-forward\n",
            " code/scripts/make_cub_anno_files.py | 4 \u001b[32m+\u001b[m\u001b[31m---\u001b[m\n",
            " 1 file changed, 1 insertion(+), 3 deletions(-)\n"
          ],
          "name": "stdout"
        }
      ]
    },
    {
      "metadata": {
        "id": "o0R14hsPfnN1",
        "colab_type": "code",
        "colab": {
          "autoexec": {
            "startup": false,
            "wait_interval": 0
          }
        }
      },
      "cell_type": "code",
      "source": [
        "\n",
        "%load FineGrainedRec/run_cub.py\n",
        "%load FineGrainedRec/set_config.py\n",
        "%load FineGrainedRec/scripts/make_cub_anno_file.py\n",
        "%load FineGrainedRec/coseg/run_coseg.py\n",
        "%load FineGrainedRec/coseg/coseg_main.py\n",
        "%load FineGrainedRec/coseg/grab_cut.py"
      ],
      "execution_count": 0,
      "outputs": []
    },
    {
      "metadata": {
        "id": "peuoMvJLjGTt",
        "colab_type": "code",
        "colab": {
          "autoexec": {
            "startup": false,
            "wait_interval": 0
          }
        }
      },
      "cell_type": "code",
      "source": [
        "import FineGrainedRec.run_cub"
      ],
      "execution_count": 0,
      "outputs": []
    }
  ]
}